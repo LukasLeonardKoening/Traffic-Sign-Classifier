{
 "cells": [
  {
   "cell_type": "markdown",
   "metadata": {},
   "source": [
    "# Self-Driving Car Engineer Nanodegree\n",
    "\n",
    "## Deep Learning\n",
    "\n",
    "## Project: Build a Traffic Sign Recognition Classifier\n",
    "\n",
    "In this notebook, a template is provided for you to implement your functionality in stages, which is required to successfully complete this project. If additional code is required that cannot be included in the notebook, be sure that the Python code is successfully imported and included in your submission if necessary. \n",
    "\n",
    "> **Note**: Once you have completed all of the code implementations, you need to finalize your work by exporting the iPython Notebook as an HTML document. Before exporting the notebook to html, all of the code cells need to have been run so that reviewers can see the final implementation and output. You can then export the notebook by using the menu above and navigating to  \\n\",\n",
    "    \"**File -> Download as -> HTML (.html)**. Include the finished document along with this notebook as your submission. \n",
    "\n",
    "In addition to implementing code, there is a writeup to complete. The writeup should be completed in a separate file, which can be either a markdown file or a pdf document. There is a [write up template](https://github.com/udacity/CarND-Traffic-Sign-Classifier-Project/blob/master/writeup_template.md) that can be used to guide the writing process. Completing the code template and writeup template will cover all of the [rubric points](https://review.udacity.com/#!/rubrics/481/view) for this project.\n",
    "\n",
    "The [rubric](https://review.udacity.com/#!/rubrics/481/view) contains \"Stand Out Suggestions\" for enhancing the project beyond the minimum requirements. The stand out suggestions are optional. If you decide to pursue the \"stand out suggestions\", you can include the code in this Ipython notebook and also discuss the results in the writeup file.\n",
    "\n",
    "\n",
    ">**Note:** Code and Markdown cells can be executed using the **Shift + Enter** keyboard shortcut. In addition, Markdown cells can be edited by typically double-clicking the cell to enter edit mode."
   ]
  },
  {
   "cell_type": "markdown",
   "metadata": {},
   "source": [
    "---\n",
    "## Step 0: Load The Data & Augment Training Data"
   ]
  },
  {
   "cell_type": "code",
   "execution_count": 1,
   "metadata": {},
   "outputs": [],
   "source": [
    "## IMPORTS\n",
    "import pickle\n",
    "import numpy as np\n",
    "import random\n",
    "from scipy.ndimage import rotate\n",
    "from scipy.misc import face\n",
    "from sklearn.utils import shuffle\n",
    "import cv2\n",
    "import tensorflow as tf\n",
    "from tensorflow.contrib.layers import flatten\n",
    "from matplotlib import pyplot as plt\n",
    "import matplotlib.image as mpl_img\n",
    "import glob\n",
    "\n",
    "# Visualizations will be shown in the notebook.\n",
    "%matplotlib inline"
   ]
  },
  {
   "cell_type": "code",
   "execution_count": 2,
   "metadata": {},
   "outputs": [],
   "source": [
    "## LOAD DATA\n",
    "\n",
    "# Load data from pickle files\n",
    "training_file = \"../data/train.p\"\n",
    "validation_file= \"../data/valid.p\"\n",
    "testing_file = \"../data/test.p\"\n",
    "\n",
    "with open(training_file, mode='rb') as f:\n",
    "    train = pickle.load(f)\n",
    "with open(validation_file, mode='rb') as f:\n",
    "    valid = pickle.load(f)\n",
    "with open(testing_file, mode='rb') as f:\n",
    "    test = pickle.load(f)\n",
    "    \n",
    "X_train, y_train = train['features'], train['labels']\n",
    "X_valid, y_valid = valid['features'], valid['labels']\n",
    "X_test, y_test = test['features'], test['labels']"
   ]
  },
  {
   "cell_type": "code",
   "execution_count": 3,
   "metadata": {},
   "outputs": [
    {
     "name": "stdout",
     "output_type": "stream",
     "text": [
      "(32, 32, 3)\n"
     ]
    },
    {
     "data": {
      "image/png": "[encoded data removed]",
      "text/plain": [
       "<matplotlib.figure.Figure at 0x7f54a813eb00>"
      ]
     },
     "metadata": {
      "needs_background": "light"
     },
     "output_type": "display_data"
    }
   ],
   "source": [
    "## HELPER FUNCTIONS\n",
    "def rotate_image(image, angle):\n",
    "    rot = rotate(image, angle, reshape=False)\n",
    "    return rot\n",
    "\n",
    "rot_test = rotate_image(X_train[0], 15)\n",
    "fig, ax = plt.subplots(1, 2)\n",
    "ax[0].imshow(X_train[0])\n",
    "ax[1].imshow(rot_test)\n",
    "print(rot_test.shape)"
   ]
  },
  {
   "cell_type": "code",
   "execution_count": 4,
   "metadata": {},
   "outputs": [],
   "source": [
    "## TRAINIG DATA AUGMENTATION\n",
    "# Prepare arrays\n",
    "fake_data_X = []\n",
    "fake_data_y = []\n",
    "\n",
    "# create rotated copy (random angle) for each image\n",
    "for i in range(len(X_train)):\n",
    "    angle1 = random.randint(-15,15)\n",
    "    rot1 = rotate_image(X_train[i], angle1)\n",
    "    fake_data_X.append(rot1)\n",
    "    fake_data_y.append(y_train[i])\n",
    "\n",
    "# Add rotated images to training image set\n",
    "X_train = np.concatenate((X_train, fake_data_X), axis=0)\n",
    "y_train = np.concatenate((y_train, fake_data_y), axis=0)"
   ]
  },
  {
   "cell_type": "code",
   "execution_count": 5,
   "metadata": {},
   "outputs": [
    {
     "name": "stdout",
     "output_type": "stream",
     "text": [
      "Shape orginal img: (32, 32, 3)\n",
      "Shape rotated img: (32, 32, 3)\n"
     ]
    },
    {
     "data": {
      "text/plain": [
       "<matplotlib.image.AxesImage at 0x7f54a7483550>"
      ]
     },
     "execution_count": 5,
     "metadata": {},
     "output_type": "execute_result"
    },
    {
     "data": {
      "image/png": "[encoded data removed]",
      "text/plain": [
       "<matplotlib.figure.Figure at 0x7f54a811ae80>"
      ]
     },
     "metadata": {
      "needs_background": "light"
     },
     "output_type": "display_data"
    }
   ],
   "source": [
    "# Visualization\n",
    "print(\"Shape orginal img: \" + str(X_train[1].shape))\n",
    "print(\"Shape rotated img: \" + str(fake_data_X[1].shape))\n",
    "plt.imshow(fake_data_X[1])"
   ]
  },
  {
   "cell_type": "markdown",
   "metadata": {},
   "source": [
    "---\n",
    "\n",
    "## Step 1: Dataset Summary & Exploration\n",
    "\n",
    "The pickled data is a dictionary with 4 key/value pairs:\n",
    "\n",
    "- `'features'` is a 4D array containing raw pixel data of the traffic sign images, (num examples, width, height, channels).\n",
    "- `'labels'` is a 1D array containing the label/class id of the traffic sign. The file `signnames.csv` contains id -> name mappings for each id.\n",
    "- `'sizes'` is a list containing tuples, (width, height) representing the original width and height the image.\n",
    "- `'coords'` is a list containing tuples, (x1, y1, x2, y2) representing coordinates of a bounding box around the sign in the image. **THESE COORDINATES ASSUME THE ORIGINAL IMAGE. THE PICKLED DATA CONTAINS RESIZED VERSIONS (32 by 32) OF THESE IMAGES**\n",
    "\n",
    "Complete the basic data summary below. Use python, numpy and/or pandas methods to calculate the data summary rather than hard coding the results. For example, the [pandas shape method](http://pandas.pydata.org/pandas-docs/stable/generated/pandas.DataFrame.shape.html) might be useful for calculating some of the summary results. "
   ]
  },
  {
   "cell_type": "markdown",
   "metadata": {},
   "source": [
    "### Provide a Basic Summary of the Data Set Using Python, Numpy and/or Pandas"
   ]
  },
  {
   "cell_type": "code",
   "execution_count": 6,
   "metadata": {},
   "outputs": [
    {
     "name": "stdout",
     "output_type": "stream",
     "text": [
      "Basic Summary\n",
      "----------------------------------------------\n",
      "Number of training examples = 69598\n",
      "Number of validation examples = 4410\n",
      "Number of testing examples = 12630\n",
      "Image data shape = (32, 32, 3)\n",
      "Number of classes = 43\n"
     ]
    }
   ],
   "source": [
    "### Replace each question mark with the appropriate value. \n",
    "### Use python, pandas or numpy methods rather than hard coding the results\n",
    "\n",
    "# Number of training examples\n",
    "n_train = len(X_train)\n",
    "\n",
    "# Number of validation examples\n",
    "n_validation = len(X_valid)\n",
    "\n",
    "# Number of testing examples.\n",
    "n_test = len(X_test)\n",
    "\n",
    "# What's the shape of an traffic sign image?\n",
    "image_shape = X_train[0].shape\n",
    "\n",
    "# How many unique classes/labels there are in the dataset.\n",
    "n_classes = len(np.unique(y_train))\n",
    "\n",
    "print(\"Basic Summary\")\n",
    "print(\"----------------------------------------------\")\n",
    "print(\"Number of training examples =\", n_train)\n",
    "print(\"Number of validation examples =\", n_validation)\n",
    "print(\"Number of testing examples =\", n_test)\n",
    "print(\"Image data shape =\", image_shape)\n",
    "print(\"Number of classes =\", n_classes)"
   ]
  },
  {
   "cell_type": "markdown",
   "metadata": {},
   "source": [
    "### Include an exploratory visualization of the dataset"
   ]
  },
  {
   "cell_type": "markdown",
   "metadata": {},
   "source": [
    "Visualize the German Traffic Signs Dataset using the pickled file(s). This is open ended, suggestions include: plotting traffic sign images, plotting the count of each sign, etc. \n",
    "\n",
    "The [Matplotlib](http://matplotlib.org/) [examples](http://matplotlib.org/examples/index.html) and [gallery](http://matplotlib.org/gallery.html) pages are a great resource for doing visualizations in Python.\n",
    "\n",
    "**NOTE:** It's recommended you start with something simple first. If you wish to do more, come back to it after you've completed the rest of the sections. It can be interesting to look at the distribution of classes in the training, validation and test set. Is the distribution the same? Are there more examples of some classes than others?"
   ]
  },
  {
   "cell_type": "code",
   "execution_count": 7,
   "metadata": {},
   "outputs": [
    {
     "name": "stdout",
     "output_type": "stream",
     "text": [
      "Visualization of signs:\n",
      "\n",
      "Example\n",
      "Class: 7\n"
     ]
    },
    {
     "data": {
      "image/png": "[encoded data removed]",
      "text/plain": [
       "<matplotlib.figure.Figure at 0x7f54a57108d0>"
      ]
     },
     "metadata": {
      "needs_background": "light"
     },
     "output_type": "display_data"
    },
    {
     "data": {
      "image/png": "[encoded data removed]",
      "text/plain": [
       "<matplotlib.figure.Figure at 0x7f54a5710668>"
      ]
     },
     "metadata": {
      "needs_background": "light"
     },
     "output_type": "display_data"
    }
   ],
   "source": [
    "### Data exploration visualization code goes here.\n",
    "### Feel free to use as many code cells as needed.\n",
    "\n",
    "\n",
    "print(\"Visualization of signs:\")\n",
    "unique, counts = np.unique(y_train, return_counts=True)\n",
    "#dic = dict(zip(unique, counts))\n",
    "\n",
    "plt.bar(unique, counts)\n",
    "#plt.xticks(unique, counts)\n",
    "\n",
    "#print(dic)\n",
    "#for n in range(n_classes):\n",
    "#    print(str(n) + \": \" + str(dic[n]))\n",
    "    \n",
    "    \n",
    "print()\n",
    "print(\"Example\")\n",
    "index = random.randint(0, len(X_train))\n",
    "image = X_train[index].squeeze()\n",
    "\n",
    "plt.figure(figsize=(1,1))\n",
    "plt.imshow(image, cmap=\"gray\")\n",
    "print(\"Class: \" + str(y_train[index]))"
   ]
  },
  {
   "cell_type": "markdown",
   "metadata": {},
   "source": [
    "----\n",
    "\n",
    "## Step 2: Design and Test a Model Architecture\n",
    "\n",
    "Design and implement a deep learning model that learns to recognize traffic signs. Train and test your model on the [German Traffic Sign Dataset](http://benchmark.ini.rub.de/?section=gtsrb&subsection=dataset).\n",
    "\n",
    "The LeNet-5 implementation shown in the [classroom](https://classroom.udacity.com/nanodegrees/nd013/parts/fbf77062-5703-404e-b60c-95b78b2f3f9e/modules/6df7ae49-c61c-4bb2-a23e-6527e69209ec/lessons/601ae704-1035-4287-8b11-e2c2716217ad/concepts/d4aca031-508f-4e0b-b493-e7b706120f81) at the end of the CNN lesson is a solid starting point. You'll have to change the number of classes and possibly the preprocessing, but aside from that it's plug and play! \n",
    "\n",
    "With the LeNet-5 solution from the lecture, you should expect a validation set accuracy of about 0.89. To meet specifications, the validation set accuracy will need to be at least 0.93. It is possible to get an even higher accuracy, but 0.93 is the minimum for a successful project submission. \n",
    "\n",
    "There are various aspects to consider when thinking about this problem:\n",
    "\n",
    "- Neural network architecture (is the network over or underfitting?)\n",
    "- Play around preprocessing techniques (normalization, rgb to grayscale, etc)\n",
    "- Number of examples per label (some have more than others).\n",
    "- Generate fake data.\n",
    "\n",
    "Here is an example of a [published baseline model on this problem](http://yann.lecun.com/exdb/publis/pdf/sermanet-ijcnn-11.pdf). It's not required to be familiar with the approach used in the paper but, it's good practice to try to read papers like these."
   ]
  },
  {
   "cell_type": "markdown",
   "metadata": {},
   "source": [
    "### Pre-process the Data Set (normalization, grayscale, etc.)"
   ]
  },
  {
   "cell_type": "markdown",
   "metadata": {},
   "source": [
    "Minimally, the image data should be normalized so that the data has mean zero and equal variance. For image data, `(pixel - 128)/ 128` is a quick way to approximately normalize the data and can be used in this project. \n",
    "\n",
    "Other pre-processing steps are optional. You can try different techniques to see if it improves performance. \n",
    "\n",
    "Use the code cell (or multiple code cells, if necessary) to implement the first step of your project."
   ]
  },
  {
   "cell_type": "code",
   "execution_count": 8,
   "metadata": {},
   "outputs": [],
   "source": [
    "def global_contrast_normalization(image, lamda=64, epsilon=0.000000001):\n",
    "    \"\"\"\n",
    "    Normalizes the input image by the global contrast as described on Data Science Stack Exchange\n",
    "    https://datascience.stackexchange.com/questions/15110/how-to-implement-global-contrast-normalization-in-python \n",
    "    \"\"\"\n",
    "    \n",
    "    average = np.mean(image)\n",
    "    image = image - average\n",
    "\n",
    "    contrast = np.sqrt(lamda + np.mean(image**2))\n",
    "    image = image / max(contrast, epsilon)\n",
    "\n",
    "    return image"
   ]
  },
  {
   "cell_type": "code",
   "execution_count": 9,
   "metadata": {},
   "outputs": [],
   "source": [
    "### Preprocess the data here. It is required to normalize the data. Other preprocessing steps could include \n",
    "### converting to grayscale, etc.\n",
    "### Feel free to use as many code cells as needed.\n",
    "\n",
    "\n",
    "# Shuffle\n",
    "X_train, y_train = shuffle(X_train, y_train)\n",
    "\n",
    "# Convert from int8 to float32 as needed in tf.nn.conv2d\n",
    "X_train = X_train.astype(np.float32)\n",
    "X_valid = X_valid.astype(np.float32)\n",
    "X_test = X_test.astype(np.float32)\n",
    "\n",
    "# Global contrast normalization\n",
    "for img in range(n_train):\n",
    "    X_train[img] = global_contrast_normalization(X_train[img])\n",
    "    \n",
    "for img in range(n_validation):\n",
    "    X_valid[img] = global_contrast_normalization(X_valid[img])\n",
    "    \n",
    "for img in range(n_test):\n",
    "    X_test[img] = global_contrast_normalization(X_test[img])"
   ]
  },
  {
   "cell_type": "code",
   "execution_count": 10,
   "metadata": {},
   "outputs": [
    {
     "name": "stdout",
     "output_type": "stream",
     "text": [
      "[[[-1.56241214 -1.56241214 -1.56241214]\n",
      "  [-1.56241214 -1.56241214 -1.56241214]\n",
      "  [-1.56241214 -1.56241214 -1.56241214]\n",
      "  ..., \n",
      "  [-1.56241214 -1.56241214 -1.56241214]\n",
      "  [-1.56241214 -1.56241214 -1.56241214]\n",
      "  [-1.56241214 -1.56241214 -1.56241214]]\n",
      "\n",
      " [[-1.56241214 -1.56241214 -1.56241214]\n",
      "  [-1.56241214 -1.56241214 -1.56241214]\n",
      "  [-1.56241214 -1.56241214 -1.56241214]\n",
      "  ..., \n",
      "  [-1.56241214 -1.56241214 -1.56241214]\n",
      "  [-1.56241214 -1.56241214 -1.56241214]\n",
      "  [-1.56241214 -1.56241214 -1.56241214]]\n",
      "\n",
      " [[-1.56241214 -1.56241214 -1.56241214]\n",
      "  [-1.56241214 -1.56241214 -1.56241214]\n",
      "  [ 1.80662668  1.97097003  3.20354509]\n",
      "  ..., \n",
      "  [ 0.0399356  -0.04223608  0.20427895]\n",
      "  [-1.56241214 -1.56241214 -1.56241214]\n",
      "  [-1.56241214 -1.56241214 -1.56241214]]\n",
      "\n",
      " ..., \n",
      " [[-1.56241214 -1.56241214 -1.56241214]\n",
      "  [-1.56241214 -1.56241214 -1.56241214]\n",
      "  [-0.20657943  0.08102144  0.32753646]\n",
      "  ..., \n",
      "  [-0.74069536 -0.74069536 -0.74069536]\n",
      "  [-1.56241214 -1.56241214 -1.56241214]\n",
      "  [-1.56241214 -1.56241214 -1.56241214]]\n",
      "\n",
      " [[-1.56241214 -1.56241214 -1.56241214]\n",
      "  [-1.56241214 -1.56241214 -1.56241214]\n",
      "  [-1.56241214 -1.56241214 -1.56241214]\n",
      "  ..., \n",
      "  [-1.56241214 -1.56241214 -1.56241214]\n",
      "  [-1.56241214 -1.56241214 -1.56241214]\n",
      "  [-1.56241214 -1.56241214 -1.56241214]]\n",
      "\n",
      " [[-1.56241214 -1.56241214 -1.56241214]\n",
      "  [-1.56241214 -1.56241214 -1.56241214]\n",
      "  [-1.56241214 -1.56241214 -1.56241214]\n",
      "  ..., \n",
      "  [-1.56241214 -1.56241214 -1.56241214]\n",
      "  [-1.56241214 -1.56241214 -1.56241214]\n",
      "  [-1.56241214 -1.56241214 -1.56241214]]]\n"
     ]
    }
   ],
   "source": [
    "# Visualization of a normalized image\n",
    "print(X_train[3])"
   ]
  },
  {
   "cell_type": "markdown",
   "metadata": {},
   "source": [
    "### Model Architecture"
   ]
  },
  {
   "cell_type": "code",
   "execution_count": 11,
   "metadata": {},
   "outputs": [],
   "source": [
    "### Define your architecture here.\n",
    "### Feel free to use as many code cells as needed.\n",
    "\n",
    "# Define Hyperparameters\n",
    "EPOCHS = 10\n",
    "BATCH_SIZE = 128\n",
    "\n",
    "\n",
    "def LeNet(x, keep_prob):    \n",
    "    \"\"\"\n",
    "    This function implements a modified version of LeNet by Yann LeCun\n",
    "    \"\"\"\n",
    "    \n",
    "    # Arguments for tf.truncated_normal\n",
    "    mu = 0\n",
    "    sigma = 0.1#\n",
    "    \n",
    "    # Create weights for layers with random entries from normal distribution\n",
    "    weights = {\n",
    "        'W_L1': tf.Variable(tf.truncated_normal(shape=[5, 5, 3, 6], mean = mu, stddev = sigma)),\n",
    "        'W_L2': tf.Variable(tf.truncated_normal(shape=[5, 5, 6, 16], mean = mu, stddev = sigma)),\n",
    "        'W_L3': tf.Variable(tf.truncated_normal(shape=[400, 120], mean = mu, stddev = sigma)),\n",
    "        'W_L4': tf.Variable(tf.truncated_normal(shape=[120, 84], mean = mu, stddev = sigma)),\n",
    "        'W_L5': tf.Variable(tf.truncated_normal(shape=[84, n_classes], mean = mu, stddev = sigma))\n",
    "    }\n",
    "    \n",
    "    # Create biases for layers with zeros\n",
    "    biases = {\n",
    "        'b_L1': tf.Variable(tf.zeros(6)),\n",
    "        'b_L2': tf.Variable(tf.zeros(16)),\n",
    "        'b_L3': tf.Variable(tf.zeros(120)),\n",
    "        'b_L4': tf.Variable(tf.zeros(84)),\n",
    "        'b_L5': tf.Variable(tf.zeros(n_classes))\n",
    "    }\n",
    "    \n",
    "    # Layer 1: Convolutional. Input = 32x32x3. Output = 28x28x6.\n",
    "    layer1 = tf.nn.conv2d(x, weights['W_L1'], strides=[1, 1, 1, 1], padding='VALID')\n",
    "    layer1 = tf.nn.bias_add(layer1, biases['b_L1'])\n",
    "    \n",
    "    # Layer 1: Activation.\n",
    "    layer1 = tf.nn.relu(layer1)\n",
    "\n",
    "    # Pooling 1. Input = 28x28x6. Output = 14x14x6.\n",
    "    pool1 = tf.nn.max_pool(layer1, [1, 2, 2, 1], [1,2,2,1], 'VALID')\n",
    "\n",
    "    # Layer 2: Convolutional. Output = 10x10x16.\n",
    "    layer2 = tf.nn.conv2d(pool1, weights['W_L2'], strides=[1, 1, 1, 1], padding='VALID')\n",
    "    layer2 = tf.nn.bias_add(layer2, biases['b_L2'])\n",
    "    \n",
    "    # Layer 2: Activation.\n",
    "    layer2 = tf.nn.relu(layer2)\n",
    "\n",
    "    # Pooling 2. Input = 10x10x16. Output = 5x5x16.\n",
    "    pool2 = tf.nn.max_pool(layer2, [1, 2, 2, 1], [1,2,2,1], 'VALID')\n",
    "\n",
    "    # Flatten. Input = 5x5x16. Output = 400.\n",
    "    flattend = flatten(pool2)\n",
    "    \n",
    "    # Layer 3: Fully Connected. Input = 400. Output = 120.\n",
    "    layer3 = tf.add(tf.matmul(flattend, weights['W_L3']), biases['b_L3'])\n",
    "    \n",
    "    # Layer 3: Activation.\n",
    "    layer3 = tf.nn.relu(layer3)\n",
    "    \n",
    "    # Layer 3: Dropout. (Divergence from vanilla LeNet)\n",
    "    layer3 = tf.nn.dropout(layer3, keep_prob)\n",
    "\n",
    "    # Layer 4: Fully Connected. Input = 120. Output = 84.\n",
    "    layer4 = tf.add(tf.matmul(layer3, weights['W_L4']), biases['b_L4'])\n",
    "    \n",
    "    # Layer 4: Activation.\n",
    "    layer4 = tf.nn.relu(layer4)\n",
    "\n",
    "    # Layer 5: Fully Connected. Input = 84. Output = 43.\n",
    "    layer5 = tf.add(tf.matmul(layer4, weights['W_L5']), biases['b_L5'])\n",
    "    \n",
    "    return layer5"
   ]
  },
  {
   "cell_type": "markdown",
   "metadata": {},
   "source": [
    "### Train, Validate and Test the Model"
   ]
  },
  {
   "cell_type": "markdown",
   "metadata": {},
   "source": [
    "A validation set can be used to assess how well the model is performing. A low accuracy on the training and validation\n",
    "sets imply underfitting. A high accuracy on the training set but low accuracy on the validation set implies overfitting."
   ]
  },
  {
   "cell_type": "code",
   "execution_count": 12,
   "metadata": {},
   "outputs": [
    {
     "name": "stdout",
     "output_type": "stream",
     "text": [
      "Training...\n",
      "\n",
      "EPOCH 1 ...\n",
      "Training Accuracy = 0.933\n",
      "Validation Accuracy = 0.878\n",
      "\n",
      "EPOCH 2 ...\n",
      "Training Accuracy = 0.972\n",
      "Validation Accuracy = 0.935\n",
      "\n",
      "EPOCH 3 ...\n",
      "Training Accuracy = 0.983\n",
      "Validation Accuracy = 0.938\n",
      "\n",
      "EPOCH 4 ...\n",
      "Training Accuracy = 0.988\n",
      "Validation Accuracy = 0.945\n",
      "\n",
      "EPOCH 5 ...\n",
      "Training Accuracy = 0.989\n",
      "Validation Accuracy = 0.949\n",
      "\n",
      "EPOCH 6 ...\n",
      "Training Accuracy = 0.991\n",
      "Validation Accuracy = 0.946\n",
      "\n",
      "EPOCH 7 ...\n",
      "Training Accuracy = 0.994\n",
      "Validation Accuracy = 0.956\n",
      "\n",
      "EPOCH 8 ...\n",
      "Training Accuracy = 0.995\n",
      "Validation Accuracy = 0.953\n",
      "\n",
      "EPOCH 9 ...\n",
      "Training Accuracy = 0.996\n",
      "Validation Accuracy = 0.964\n",
      "\n",
      "EPOCH 10 ...\n",
      "Training Accuracy = 0.997\n",
      "Validation Accuracy = 0.956\n",
      "\n",
      "Model saved\n"
     ]
    }
   ],
   "source": [
    "### Train your model here.\n",
    "### Calculate and report the accuracy on the training and validation set.\n",
    "### Once a final model architecture is selected, \n",
    "### the accuracy on the test set should be calculated and reported as well.\n",
    "### Feel free to use as many code cells as needed.\n",
    "\n",
    "# Prepare Tensorflow placeholders\n",
    "x = tf.placeholder(tf.float32, (None, 32, 32, 3), name='image_set')\n",
    "y = tf.placeholder(tf.int32, (None), name='label_set')\n",
    "keep_prob = tf.placeholder(tf.float32, None, name='keep_prob')\n",
    "\n",
    "# One hot encode labels\n",
    "one_hot_y = tf.one_hot(y, n_classes)\n",
    "\n",
    "# Learning rate\n",
    "rate = 0.001\n",
    "\n",
    "# Training operation + helpers\n",
    "logits = LeNet(x, keep_prob)\n",
    "cross_entropy = tf.nn.softmax_cross_entropy_with_logits(labels=one_hot_y, logits=logits)\n",
    "loss_operation = tf.reduce_mean(cross_entropy)\n",
    "optimizer = tf.train.AdamOptimizer(learning_rate = rate)\n",
    "training_operation = optimizer.minimize(loss_operation)\n",
    "\n",
    "# Accuracy operation + helpers\n",
    "correct_prediction = tf.equal(tf.argmax(logits, 1), tf.argmax(one_hot_y, 1))\n",
    "accuracy_operation = tf.reduce_mean(tf.cast(correct_prediction, tf.float32))\n",
    "saver = tf.train.Saver()\n",
    "\n",
    "def evaluate(X_data, y_data):\n",
    "    \"\"\"\n",
    "    Function evaluates the accuracy of a data set (image set & labels)\n",
    "    \"\"\"\n",
    "    num_examples = len(X_data)\n",
    "    total_accuracy = 0\n",
    "    sess = tf.get_default_session()\n",
    "    for offset in range(0, num_examples, BATCH_SIZE):\n",
    "        batch_x, batch_y = X_data[offset:offset+BATCH_SIZE], y_data[offset:offset+BATCH_SIZE]\n",
    "        accuracy = sess.run(accuracy_operation, feed_dict={x: batch_x, y: batch_y, keep_prob: 1})\n",
    "        total_accuracy += (accuracy * len(batch_x))\n",
    "    return total_accuracy / num_examples\n",
    "\n",
    "tf.set_random_seed(1)\n",
    "\n",
    "# Training the CNN\n",
    "with tf.Session() as sess:\n",
    "    sess.run(tf.global_variables_initializer())\n",
    "    num_examples = len(X_train)\n",
    "    \n",
    "    print(\"Training...\")\n",
    "    print()\n",
    "    for i in range(EPOCHS):\n",
    "        X_train, y_train = shuffle(X_train, y_train)\n",
    "        # Train batches for better perfomance\n",
    "        for offset in range(0, num_examples, BATCH_SIZE):\n",
    "            end = offset + BATCH_SIZE\n",
    "            batch_x, batch_y = X_train[offset:end], y_train[offset:end]\n",
    "            sess.run(training_operation, feed_dict={x: batch_x, y: batch_y, keep_prob: 0.5})\n",
    "            \n",
    "        validation_accuracy = evaluate(X_valid, y_valid)\n",
    "        training_accuracy = evaluate(X_train, y_train)\n",
    "        print(\"EPOCH {} ...\".format(i+1))\n",
    "        print(\"Training Accuracy = {:.3f}\".format(training_accuracy))\n",
    "        print(\"Validation Accuracy = {:.3f}\".format(validation_accuracy))\n",
    "        print()\n",
    "        \n",
    "    saver.save(sess, './lenet')\n",
    "    print(\"Model saved\")"
   ]
  },
  {
   "cell_type": "code",
   "execution_count": 13,
   "metadata": {},
   "outputs": [
    {
     "name": "stdout",
     "output_type": "stream",
     "text": [
      "INFO:tensorflow:Restoring parameters from ./lenet\n",
      "Test accuracy: 0.952335708479\n"
     ]
    }
   ],
   "source": [
    "with tf.Session() as sess:\n",
    "    saver.restore(sess, tf.train.latest_checkpoint('./'))\n",
    "    accuracy = evaluate(X_test, y_test)\n",
    "    print(\"Test accuracy: \" + str(accuracy))"
   ]
  },
  {
   "cell_type": "markdown",
   "metadata": {},
   "source": [
    "---\n",
    "\n",
    "## Step 3: Test a Model on New Images\n",
    "\n",
    "To give yourself more insight into how your model is working, download at least five pictures of German traffic signs from the web and use your model to predict the traffic sign type.\n",
    "\n",
    "You may find `signnames.csv` useful as it contains mappings from the class id (integer) to the actual sign name."
   ]
  },
  {
   "cell_type": "markdown",
   "metadata": {},
   "source": [
    "### Load and Output the Images"
   ]
  },
  {
   "cell_type": "markdown",
   "metadata": {},
   "source": [
    "The images used are from a dashcam in my own car taken on the \"Autobahn\" and city area near Berlin."
   ]
  },
  {
   "cell_type": "code",
   "execution_count": 14,
   "metadata": {},
   "outputs": [
    {
     "data": {
      "image/png": "[encoded data removed]",
      "text/plain": [
       "<matplotlib.figure.Figure at 0x7f545a278b38>"
      ]
     },
     "metadata": {
      "needs_background": "light"
     },
     "output_type": "display_data"
    },
    {
     "name": "stdout",
     "output_type": "stream",
     "text": [
      "(32, 32, 4)\n"
     ]
    },
    {
     "data": {
      "image/png": "[encoded data removed]",
      "text/plain": [
       "<matplotlib.figure.Figure at 0x7f54a5710748>"
      ]
     },
     "metadata": {
      "needs_background": "light"
     },
     "output_type": "display_data"
    }
   ],
   "source": [
    "### Load the images and plot them here.\n",
    "### Feel free to use as many code cells as needed.\n",
    "\n",
    "# Glob can't be used here due to missing order while reading in the images\n",
    "from skimage.io import imread_collection\n",
    "\n",
    "# Read in the images\n",
    "col_dir = '../data/example_pictures/sign*.jpg'\n",
    "input_images = imread_collection(col_dir)\n",
    "\n",
    "def show_images(images):\n",
    "    \"\"\"\n",
    "    Helper function to display the images\n",
    "    \"\"\"\n",
    "    n = len(images)\n",
    "    f = plt.figure(n, figsize=(16,16))\n",
    "    for i in range(n):\n",
    "        f.add_subplot(1, n, i + 1)\n",
    "        plt.imshow(images[i])\n",
    "    plt.show(block=True)\n",
    "    \n",
    "show_images(input_images)\n",
    "\n",
    "print(input_images[0].shape)\n",
    "plt.imshow(input_images[1])\n",
    "\n",
    "labels = [3,3,7,7,8,8,18,38,38,9,12,12,12,13,40]"
   ]
  },
  {
   "cell_type": "code",
   "execution_count": 15,
   "metadata": {},
   "outputs": [],
   "source": [
    "## Preprocessing\n",
    "images = list(input_images)\n",
    "\n",
    "# Global contrast normalization\n",
    "for img in range(len(images)):\n",
    "    images[img] = images[img].astype('float32')\n",
    "    images[img] = cv2.cvtColor(images[img], cv2.COLOR_RGBA2RGB)\n",
    "    images[img] = global_contrast_normalization(images[img])\n",
    "    \n",
    "images = np.array(images).astype(np.float32)"
   ]
  },
  {
   "cell_type": "markdown",
   "metadata": {},
   "source": [
    "### Predict the Sign Type for Each Image"
   ]
  },
  {
   "cell_type": "code",
   "execution_count": 16,
   "metadata": {},
   "outputs": [],
   "source": [
    "def softmax(L):\n",
    "    \"\"\"\n",
    "    Function implements the softmax operation\n",
    "    \"\"\"\n",
    "    softmax = []\n",
    "    summ = np.sum(np.exp(L))\n",
    "    for i in range(len(L)):\n",
    "        softmax.append(np.exp(L[i])/summ)\n",
    "    return softmax"
   ]
  },
  {
   "cell_type": "code",
   "execution_count": 17,
   "metadata": {},
   "outputs": [
    {
     "name": "stdout",
     "output_type": "stream",
     "text": [
      "INFO:tensorflow:Restoring parameters from ./lenet\n",
      "Image 0\n",
      "Prediction: 3 (0.999957)\n",
      "Correct prediction: 3\n",
      "Image 1\n",
      "Prediction: 3 (0.997236)\n",
      "Correct prediction: 3\n",
      "Image 2\n",
      "Prediction: 13 (0.81838)\n",
      "Correct prediction: 7\n"
     ]
    },
    {
     "data": {
      "image/png": "[encoded data removed]",
      "text/plain": [
       "<matplotlib.figure.Figure at 0x7f54a570bac8>"
      ]
     },
     "metadata": {
      "needs_background": "light"
     },
     "output_type": "display_data"
    },
    {
     "name": "stdout",
     "output_type": "stream",
     "text": [
      "Image 3\n",
      "Prediction: 7 (0.882994)\n",
      "Correct prediction: 7\n",
      "Image 4\n",
      "Prediction: 8 (0.999578)\n",
      "Correct prediction: 8\n",
      "Image 5\n",
      "Prediction: 8 (1.0)\n",
      "Correct prediction: 8\n",
      "Image 6\n",
      "Prediction: 18 (1.0)\n",
      "Correct prediction: 18\n",
      "Image 7\n",
      "Prediction: 38 (1.0)\n",
      "Correct prediction: 38\n",
      "Image 8\n",
      "Prediction: 38 (1.0)\n",
      "Correct prediction: 38\n",
      "Image 9\n",
      "Prediction: 9 (1.0)\n",
      "Correct prediction: 9\n",
      "Image 10\n",
      "Prediction: 12 (1.0)\n",
      "Correct prediction: 12\n",
      "Image 11\n",
      "Prediction: 12 (1.0)\n",
      "Correct prediction: 12\n",
      "Image 12\n",
      "Prediction: 12 (0.999838)\n",
      "Correct prediction: 12\n",
      "Image 13\n",
      "Prediction: 13 (1.0)\n",
      "Correct prediction: 13\n",
      "Image 14\n",
      "Prediction: 40 (1.0)\n",
      "Correct prediction: 40\n"
     ]
    },
    {
     "data": {
      "text/plain": [
       "<matplotlib.figure.Figure at 0x7f5492f0b4a8>"
      ]
     },
     "metadata": {},
     "output_type": "display_data"
    }
   ],
   "source": [
    "### Run the predictions here and use the model to output the prediction for each image.\n",
    "### Make sure to pre-process the images with the same pre-processing pipeline used earlier.\n",
    "### Feel free to use as many code cells as needed.\n",
    "with tf.Session() as sess:\n",
    "    # Restore trained CNN\n",
    "    saver.restore(sess, tf.train.latest_checkpoint('./'))\n",
    "    \n",
    "    # Calculates the predictions for the images\n",
    "    predictions = sess.run(logits, feed_dict={x: images, keep_prob: 1.0})\n",
    "    logits.eval(feed_dict = {x:images, keep_prob: 1.0})\n",
    "    \n",
    "    # Apply softmax on the predictions\n",
    "    for p in range(len(predictions)):\n",
    "        predictions[p] = softmax(predictions[p])\n",
    "    \n",
    "    # Output results for all images\n",
    "    for image in range(len(images)):\n",
    "        print(\"Image \" + str(image))\n",
    "        prediction_p = max(predictions[image])\n",
    "        sign_class = [i for i, j in enumerate(predictions[image]) if j == prediction_p]\n",
    "        print(\"Prediction: \" + str(sign_class[0]) + \" (\" + str(prediction_p) + \")\")\n",
    "        print(\"Correct prediction: \" + str(labels[image]))\n",
    "        \n",
    "        f = plt.figure(1, figsize=(2,2))\n",
    "        if not (sign_class[0] == labels[image]):\n",
    "            f.add_subplot(1, 1, 1)\n",
    "            plt.imshow(input_images[image])\n",
    "            plt.show(block=True)\n",
    "            \n",
    "    "
   ]
  },
  {
   "cell_type": "markdown",
   "metadata": {},
   "source": [
    "### Analyze Performance"
   ]
  },
  {
   "cell_type": "code",
   "execution_count": 18,
   "metadata": {},
   "outputs": [
    {
     "name": "stdout",
     "output_type": "stream",
     "text": [
      "INFO:tensorflow:Restoring parameters from ./lenet\n",
      "Accuracy: 0.933333396912\n"
     ]
    }
   ],
   "source": [
    "### Calculate the accuracy for these 5 new images. \n",
    "### For example, if the model predicted 1 out of 5 signs correctly, it's 20% accurate on these new images.\n",
    "with tf.Session() as sess:\n",
    "    saver.restore(sess, tf.train.latest_checkpoint('./'))\n",
    "    accuracy = evaluate(images, labels)\n",
    "    print(\"Accuracy: \" + str(accuracy))"
   ]
  },
  {
   "cell_type": "markdown",
   "metadata": {},
   "source": [
    "### Output Top 5 Softmax Probabilities For Each Image Found on the Web"
   ]
  },
  {
   "cell_type": "markdown",
   "metadata": {},
   "source": [
    "For each of the new images, print out the model's softmax probabilities to show the **certainty** of the model's predictions (limit the output to the top 5 probabilities for each image). [`tf.nn.top_k`](https://www.tensorflow.org/versions/r0.12/api_docs/python/nn.html#top_k) could prove helpful here. \n",
    "\n",
    "The example below demonstrates how tf.nn.top_k can be used to find the top k predictions for each image.\n",
    "\n",
    "`tf.nn.top_k` will return the values and indices (class ids) of the top k predictions. So if k=3, for each sign, it'll return the 3 largest probabilities (out of a possible 43) and the correspoding class ids.\n",
    "\n",
    "Take this numpy array as an example. The values in the array represent predictions. The array contains softmax probabilities for five candidate images with six possible classes. `tf.nn.top_k` is used to choose the three classes with the highest probability:\n",
    "\n",
    "```\n",
    "# (5, 6) array\n",
    "a = np.array([[ 0.24879643,  0.07032244,  0.12641572,  0.34763842,  0.07893497,\n",
    "         0.12789202],\n",
    "       [ 0.28086119,  0.27569815,  0.08594638,  0.0178669 ,  0.18063401,\n",
    "         0.15899337],\n",
    "       [ 0.26076848,  0.23664738,  0.08020603,  0.07001922,  0.1134371 ,\n",
    "         0.23892179],\n",
    "       [ 0.11943333,  0.29198961,  0.02605103,  0.26234032,  0.1351348 ,\n",
    "         0.16505091],\n",
    "       [ 0.09561176,  0.34396535,  0.0643941 ,  0.16240774,  0.24206137,\n",
    "         0.09155967]])\n",
    "```\n",
    "\n",
    "Running it through `sess.run(tf.nn.top_k(tf.constant(a), k=3))` produces:\n",
    "\n",
    "```\n",
    "TopKV2(values=array([[ 0.34763842,  0.24879643,  0.12789202],\n",
    "       [ 0.28086119,  0.27569815,  0.18063401],\n",
    "       [ 0.26076848,  0.23892179,  0.23664738],\n",
    "       [ 0.29198961,  0.26234032,  0.16505091],\n",
    "       [ 0.34396535,  0.24206137,  0.16240774]]), indices=array([[3, 0, 5],\n",
    "       [0, 1, 4],\n",
    "       [0, 5, 1],\n",
    "       [1, 3, 5],\n",
    "       [1, 4, 3]], dtype=int32))\n",
    "```\n",
    "\n",
    "Looking just at the first row we get `[ 0.34763842,  0.24879643,  0.12789202]`, you can confirm these are the 3 largest probabilities in `a`. You'll also notice `[3, 0, 5]` are the corresponding indices."
   ]
  },
  {
   "cell_type": "code",
   "execution_count": 19,
   "metadata": {},
   "outputs": [
    {
     "name": "stdout",
     "output_type": "stream",
     "text": [
      "Top 5 Predictions:\n",
      "\n",
      "TopKV2(values=array([[  9.99957085e-01,   3.67797147e-05,   6.07678112e-06,\n",
      "          6.40066622e-09,   3.36565975e-09],\n",
      "       [  9.97236431e-01,   2.75506009e-03,   5.88409966e-06,\n",
      "          1.15646515e-06,   5.59911712e-07],\n",
      "       [  8.18380415e-01,   1.63154706e-01,   5.30965067e-03,\n",
      "          3.23464954e-03,   2.89910147e-03],\n",
      "       [  8.82994175e-01,   9.41573381e-02,   1.88318267e-02,\n",
      "          1.90467015e-03,   8.89093732e-04],\n",
      "       [  9.99577522e-01,   3.31734773e-04,   6.69198198e-05,\n",
      "          2.15737819e-05,   1.08671816e-06],\n",
      "       [  1.00000000e+00,   1.60820992e-08,   2.95158653e-09,\n",
      "          7.54455054e-10,   7.45444401e-11],\n",
      "       [  1.00000000e+00,   3.09230835e-11,   1.45853694e-11,\n",
      "          3.30603047e-17,   1.31033907e-20],\n",
      "       [  1.00000000e+00,   8.54672897e-21,   4.00192798e-22,\n",
      "          1.11485600e-24,   1.89453741e-28],\n",
      "       [  1.00000000e+00,   1.19473457e-19,   2.44935253e-22,\n",
      "          8.64660846e-23,   8.12672733e-26],\n",
      "       [  1.00000000e+00,   5.22010629e-16,   2.66589724e-16,\n",
      "          3.68814722e-17,   1.69626851e-17],\n",
      "       [  1.00000000e+00,   5.17680239e-11,   2.08981894e-11,\n",
      "          4.97448133e-12,   1.70290526e-13],\n",
      "       [  1.00000000e+00,   2.62110343e-15,   4.36459958e-16,\n",
      "          3.04256617e-16,   2.16498551e-16],\n",
      "       [  9.99838293e-01,   1.55921007e-04,   2.96727876e-06,\n",
      "          1.61645505e-06,   5.52851702e-07],\n",
      "       [  1.00000000e+00,   7.76933653e-14,   1.47533370e-14,\n",
      "          1.33059211e-14,   8.37864080e-16],\n",
      "       [  1.00000000e+00,   3.24709260e-16,   5.28100790e-17,\n",
      "          1.37599824e-17,   2.16365943e-18]], dtype=float32), indices=array([[ 3,  5,  9, 13, 32],\n",
      "       [ 3,  5,  9,  2, 13],\n",
      "       [13,  2, 38,  4, 37],\n",
      "       [ 7,  1, 16,  5,  2],\n",
      "       [ 8,  5,  7,  1, 28],\n",
      "       [ 8,  7,  5, 15,  3],\n",
      "       [18, 27, 26, 24, 29],\n",
      "       [38, 34, 36, 20, 40],\n",
      "       [38, 34, 36, 20, 40],\n",
      "       [ 9,  3, 41, 10, 32],\n",
      "       [12, 10, 13, 42, 41],\n",
      "       [12, 42, 41, 32, 13],\n",
      "       [12, 32, 40, 35, 41],\n",
      "       [13,  3,  9, 38, 35],\n",
      "       [40, 37, 16,  7, 11]], dtype=int32))\n"
     ]
    }
   ],
   "source": [
    "### Print out the top five softmax probabilities for the predictions on the German traffic sign images found on the web. \n",
    "### Feel free to use as many code cells as needed.\n",
    "with tf.Session() as sess:\n",
    "    top5 = tf.nn.top_k(predictions, 5)\n",
    "    top5_pred = sess.run(top5, feed_dict={x: images, keep_prob: 1.0})\n",
    "\n",
    "    print(\"Top 5 Predictions:\")\n",
    "    print()\n",
    "    print(top5_pred)"
   ]
  },
  {
   "cell_type": "markdown",
   "metadata": {},
   "source": [
    "### Project Writeup\n",
    "\n",
    "Once you have completed the code implementation, document your results in a project writeup using this [template](https://github.com/udacity/CarND-Traffic-Sign-Classifier-Project/blob/master/writeup_template.md) as a guide. The writeup can be in a markdown or pdf file. "
   ]
  },
  {
   "cell_type": "markdown",
   "metadata": {},
   "source": [
    "> **Note**: Once you have completed all of the code implementations and successfully answered each question above, you may finalize your work by exporting the iPython Notebook as an HTML document. You can do this by using the menu above and navigating to  \\n\",\n",
    "    \"**File -> Download as -> HTML (.html)**. Include the finished document along with this notebook as your submission."
   ]
  },
  {
   "cell_type": "markdown",
   "metadata": {},
   "source": [
    "---\n",
    "\n",
    "## Step 4 (Optional): Visualize the Neural Network's State with Test Images\n",
    "\n",
    " This Section is not required to complete but acts as an additional excersise for understaning the output of a neural network's weights. While neural networks can be a great learning device they are often referred to as a black box. We can understand what the weights of a neural network look like better by plotting their feature maps. After successfully training your neural network you can see what it's feature maps look like by plotting the output of the network's weight layers in response to a test stimuli image. From these plotted feature maps, it's possible to see what characteristics of an image the network finds interesting. For a sign, maybe the inner network feature maps react with high activation to the sign's boundary outline or to the contrast in the sign's painted symbol.\n",
    "\n",
    " Provided for you below is the function code that allows you to get the visualization output of any tensorflow weight layer you want. The inputs to the function should be a stimuli image, one used during training or a new one you provided, and then the tensorflow variable name that represents the layer's state during the training process, for instance if you wanted to see what the [LeNet lab's](https://classroom.udacity.com/nanodegrees/nd013/parts/fbf77062-5703-404e-b60c-95b78b2f3f9e/modules/6df7ae49-c61c-4bb2-a23e-6527e69209ec/lessons/601ae704-1035-4287-8b11-e2c2716217ad/concepts/d4aca031-508f-4e0b-b493-e7b706120f81) feature maps looked like for it's second convolutional layer you could enter conv2 as the tf_activation variable.\n",
    "\n",
    "For an example of what feature map outputs look like, check out NVIDIA's results in their paper [End-to-End Deep Learning for Self-Driving Cars](https://devblogs.nvidia.com/parallelforall/deep-learning-self-driving-cars/) in the section Visualization of internal CNN State. NVIDIA was able to show that their network's inner weights had high activations to road boundary lines by comparing feature maps from an image with a clear path to one without. Try experimenting with a similar test to show that your trained network's weights are looking for interesting features, whether it's looking at differences in feature maps from images with or without a sign, or even what feature maps look like in a trained network vs a completely untrained one on the same sign image.\n",
    "\n",
    "<figure>\n",
    " <img src=\"visualize_cnn.png\" width=\"380\" alt=\"Combined Image\" />\n",
    " <figcaption>\n",
    " <p></p> \n",
    " <p style=\"text-align: center;\"> Your output should look something like this (above)</p> \n",
    " </figcaption>\n",
    "</figure>\n",
    " <p></p> \n"
   ]
  },
  {
   "cell_type": "code",
   "execution_count": 20,
   "metadata": {},
   "outputs": [],
   "source": [
    "### Visualize your network's feature maps here.\n",
    "### Feel free to use as many code cells as needed.\n",
    "\n",
    "# image_input: the test image being fed into the network to produce the feature maps\n",
    "# tf_activation: should be a tf variable name used during your training procedure that represents the calculated state of a specific weight layer\n",
    "# activation_min/max: can be used to view the activation contrast in more detail, by default matplot sets min and max to the actual min and max values of the output\n",
    "# plt_num: used to plot out multiple different weight feature map sets on the same block, just extend the plt number for each new feature map entry\n",
    "\n",
    "def outputFeatureMap(image_input, tf_activation, activation_min=-1, activation_max=-1 ,plt_num=1):\n",
    "    # Here make sure to preprocess your image_input in a way your network expects\n",
    "    # with size, normalization, ect if needed\n",
    "    # image_input =\n",
    "    # Note: x should be the same name as your network's tensorflow data placeholder variable\n",
    "    # If you get an error tf_activation is not defined it may be having trouble accessing the variable from inside a function\n",
    "    activation = tf_activation.eval(session=sess,feed_dict={x : image_input})\n",
    "    featuremaps = activation.shape[3]\n",
    "    plt.figure(plt_num, figsize=(15,15))\n",
    "    for featuremap in range(featuremaps):\n",
    "        plt.subplot(6,8, featuremap+1) # sets the number of feature maps to show on each row and column\n",
    "        plt.title('FeatureMap ' + str(featuremap)) # displays the feature map number\n",
    "        if activation_min != -1 & activation_max != -1:\n",
    "            plt.imshow(activation[0,:,:, featuremap], interpolation=\"nearest\", vmin =activation_min, vmax=activation_max, cmap=\"gray\")\n",
    "        elif activation_max != -1:\n",
    "            plt.imshow(activation[0,:,:, featuremap], interpolation=\"nearest\", vmax=activation_max, cmap=\"gray\")\n",
    "        elif activation_min !=-1:\n",
    "            plt.imshow(activation[0,:,:, featuremap], interpolation=\"nearest\", vmin=activation_min, cmap=\"gray\")\n",
    "        else:\n",
    "            plt.imshow(activation[0,:,:, featuremap], interpolation=\"nearest\", cmap=\"gray\")"
   ]
  }
 ],
 "metadata": {
  "anaconda-cloud": {},
  "kernelspec": {
   "display_name": "Python 3",
   "language": "python",
   "name": "python3"
  },
  "language_info": {
   "codemirror_mode": {
    "name": "ipython",
    "version": 3
   },
   "file_extension": ".py",
   "mimetype": "text/x-python",
   "name": "python",
   "nbconvert_exporter": "python",
   "pygments_lexer": "ipython3",
   "version": "3.6.3"
  }
 },
 "nbformat": 4,
 "nbformat_minor": 1
}
